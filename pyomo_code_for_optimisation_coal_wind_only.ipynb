{
 "cells": [
  {
   "cell_type": "code",
   "execution_count": null,
   "metadata": {
    "colab": {
     "base_uri": "https://localhost:8080/"
    },
    "id": "XSFqrGtC3IAp",
    "outputId": "3b32238d-0e30-4a31-90c2-f8f78284eaf6"
   },
   "outputs": [],
   "source": [
    "# Re-import necessary libraries after execution state reset\n",
    "import pandas as pd\n",
    "from pyomo.environ import ConcreteModel, Var, Objective, Constraint, NonNegativeReals, Binary, SolverFactory, minimize, value"
   ]
  },
  {
   "cell_type": "markdown",
   "metadata": {},
   "source": [
    "Imagine we have two coal plants in 2025, one of 20MW and another \n",
    "of 40MW and a wind plant of 10MW. We want to have in 2030 20MW of\n",
    "coal and 60MW of wind.  And in 2035 we want 0MW of coal and 100 MW of wind\n",
    "\n",
    "(used different numbers)"
   ]
  },
  {
   "cell_type": "code",
   "execution_count": null,
   "metadata": {
    "colab": {
     "base_uri": "https://localhost:8080/"
    },
    "id": "XSFqrGtC3IAp",
    "outputId": "3b32238d-0e30-4a31-90c2-f8f78284eaf6"
   },
   "outputs": [],
   "source": [
    "# Re-import necessary libraries after execution state reset\n",
    "import pandas as pd\n",
    "from pyomo.environ import ConcreteModel, Var, Objective, Constraint, NonNegativeReals, Binary, SolverFactory, minimize, value\n",
    "# Define the optimisation model\n",
    "model = ConcreteModel()\n",
    "# Define time steps\n",
    "time_steps = [\"t1\", \"t2\"]\n",
    "# Define updated non-renewable plants with initial capacities\n",
    "coal_plants = {\n",
    "    \"C1\": 20,  # Coal Plant\n",
    "    \"C2\": 40,  # Coal Plant\n",
    "}\n",
    "# Define renewable plants with initial capacities\n",
    "wind_plants = {\n",
    "    \"W1\": 10,  # Wind\n",
    "    \"W2\": 0,  # Wind\n",
    "    \"W3\": 0,  # Wind\n",
    "    \"W4\": 0,  # Wind\n",
    "    \"W4\": 0,  # Wind\n",
    "    \"W5\": 0,  # Wind\n",
    "    \"W6\": 0,  # Wind\n",
    "    \"W7\": 0  # Wind\n",
    "}\n",
    "# Mapping renewable plant IDs to their type\n",
    "plant_types = {\n",
    "    \"C1\": \"coal\",\n",
    "    \"C2\": \"coal\",\n",
    "    \"W1\": \"wind\",\n",
    "    \"W2\": \"wind\",\n",
    "    \"W3\": \"wind\",\n",
    "    \"W4\": \"wind\",\n",
    "    \"W5\": \"wind\",\n",
    "    \"W6\": \"wind\",\n",
    "    \"W7\": \"wind\",\n",
    "}\n",
    "# Define unit repurposing costs per MW\n",
    "repurposing_costs_per_mw = {\n",
    "    \"coal\": {\"wind\": 50}\n",
    "}\n",
    "# Decommissioning costs per MW\n",
    "decommissioning_costs_per_mw = {\n",
    "    \"coal\": 10,\n",
    "}\n",
    "# Energy demand per time step\n",
    "coal_energy_demand = {\"t1\": 10, \"t2\": 0}\n",
    "wind_energy_demand = {\"t1\": 10, \"t2\": 50}\n",
    "\n",
    "# Define decision variables\n",
    "# Decommissioning actions\n",
    "model.decom_coal = Var(coal_plants.keys(), time_steps, domain=Binary)  # Decommission decision\n",
    "\n",
    "# Repurposing actions\n",
    "model.coal_to_wind = Var(coal_plants.keys(), time_steps, domain=Binary)  # Repurpose decision\n",
    "\n",
    "# Define costs\n",
    "cost_of_decommissioning = sum(\n",
    "    coal_plants[p] * decommissioning_costs_per_mw[\"coal\"] * model.decom_coal[p, t]\n",
    "    for p in coal_plants for t in time_steps\n",
    ")\n",
    "\n",
    "cost_of_repurposing = sum(\n",
    "    coal_plants[p] * repurposing_costs_per_mw[\"coal\"][\"wind\"] * model.coal_to_wind[p, t]\n",
    "    for p in coal_plants for t in time_steps\n",
    ")\n",
    "# Define objective function\n",
    "model.objective = Objective(expr=cost_of_decommissioning + cost_of_repurposing, sense=minimize)\n",
    "\n",
    "# Constraints\n",
    "# One action per plant constraint over the planning horizon\n",
    "def single_action_per_plant_constraint(model, p):\n",
    "    return sum(model.decom_coal[p, t] + model.coal_to_wind[p, t] for t in time_steps) <= 1\n",
    "model.single_action_per_plant_constraint = Constraint(coal_plants.keys(), rule=single_action_per_plant_constraint)\n",
    "\n",
    "# Constraint: Ensure coal energy demand is met\n",
    "def coal_demand_constraint(model, t):\n",
    "    return sum(\n",
    "        coal_plants[p] * (1 - model.decom_coal[p, t] - model.coal_to_wind[p, t])\n",
    "        for p in coal_plants\n",
    "    ) >= coal_energy_demand[t]\n",
    "\n",
    "# Constraint: Ensure wind energy demand is met\n",
    "def wind_demand_constraint(model, t):\n",
    "    return sum(wind_plants[w] for w in wind_plants) + sum(\n",
    "        coal_plants[p] * model.coal_to_wind[p, t] for p in coal_plants\n",
    "    ) >= wind_energy_demand[t]\n",
    "\n",
    "# Constraint: Ensure total energy supply meets total demand\n",
    "def total_demand_constraint(model, t):\n",
    "    new_coal_capacity = sum(\n",
    "        coal_plants[p] * (1 - model.decom_coal[p, t] - model.coal_to_wind[p, t])\n",
    "        for p in coal_plants\n",
    "    )\n",
    "    new_wind_capacity = sum(wind_plants[w] for w in wind_plants) + sum(\n",
    "        coal_plants[p] * model.coal_to_wind[p, t] for p in coal_plants\n",
    "    )\n",
    "    return (new_coal_capacity + new_wind_capacity) >= (coal_energy_demand[t] + wind_energy_demand[t])\n",
    "\n",
    "# Apply the constraints to the model\n",
    "model.coal_demand_constraint = Constraint(time_steps, rule=coal_demand_constraint)\n",
    "model.wind_demand_constraint = Constraint(time_steps, rule=wind_demand_constraint)\n",
    "model.total_demand_constraint = Constraint(time_steps, rule=total_demand_constraint)\n",
    "\n",
    "# Solve the problem\n",
    "solver = SolverFactory(\"glpk\")\n",
    "solver.solve(model, tee=True)"
   ]
  },
  {
   "cell_type": "code",
   "execution_count": null,
   "metadata": {},
   "outputs": [],
   "source": []
  }
 ],
 "metadata": {
  "colab": {
   "provenance": []
  },
  "kernelspec": {
   "display_name": "Python 3 (ipykernel)",
   "language": "python",
   "name": "python3"
  },
  "language_info": {
   "codemirror_mode": {
    "name": "ipython",
    "version": 3
   },
   "file_extension": ".py",
   "mimetype": "text/x-python",
   "name": "python",
   "nbconvert_exporter": "python",
   "pygments_lexer": "ipython3",
   "version": "3.10.12"
  }
 },
 "nbformat": 4,
 "nbformat_minor": 4
}
